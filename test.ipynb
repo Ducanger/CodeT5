{
 "cells": [
  {
   "cell_type": "code",
   "execution_count": 15,
   "metadata": {},
   "outputs": [],
   "source": [
    "prd_dir = 'results/cpp/test.output'\n",
    "with open(prd_dir) as f:\n",
    "    predictions =  [str(i)+ '\\t' + line.strip() for i, line in enumerate(f.readlines())]\n",
    "\n",
    "res = {k: [' '.join(v.split('\\t')[1:]).strip().lower()] for k, v in enumerate(predictions)}"
   ]
  },
  {
   "cell_type": "code",
   "execution_count": 29,
   "metadata": {},
   "outputs": [
    {
     "name": "stdout",
     "output_type": "stream",
     "text": [
      "4742\tx86_nz: fix use of uninitialized variable\n",
      "\n"
     ]
    }
   ],
   "source": [
    "a = []\n",
    "with open(prd_dir) as f:\n",
    "    # for i, line in enumerate(f.readlines()):\n",
    "    #     if line.split('\\t')[0] != str(i):\n",
    "    #         print(i)\n",
    "    print(f.readlines()[4741])\n"
   ]
  },
  {
   "cell_type": "code",
   "execution_count": 9,
   "metadata": {},
   "outputs": [],
   "source": [
    "for i in range(len(a)-1):\n",
    "    if a[i]!=a[i+1]-1:print(i)"
   ]
  }
 ],
 "metadata": {
  "kernelspec": {
   "display_name": "Python 3",
   "language": "python",
   "name": "python3"
  },
  "language_info": {
   "codemirror_mode": {
    "name": "ipython",
    "version": 3
   },
   "file_extension": ".py",
   "mimetype": "text/x-python",
   "name": "python",
   "nbconvert_exporter": "python",
   "pygments_lexer": "ipython3",
   "version": "3.8.7"
  }
 },
 "nbformat": 4,
 "nbformat_minor": 2
}
